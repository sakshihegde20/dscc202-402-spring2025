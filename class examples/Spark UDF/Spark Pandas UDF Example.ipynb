{
 "cells": [
  {
   "cell_type": "code",
   "execution_count": 0,
   "metadata": {
    "application/vnd.databricks.v1+cell": {
     "cellMetadata": {
      "byteLimit": 2048000,
      "rowLimit": 10000
     },
     "inputWidgets": {},
     "nuid": "4fa2e553-b6f5-4b02-bce9-1597d6729140",
     "showTitle": true,
     "tableResultSettingsMap": {},
     "title": "Load Includes"
    }
   },
   "outputs": [],
   "source": [
    "import mlflow.pyfunc\n",
    "import pandas as pd\n",
    "from pyspark.sql.functions import col\n",
    "from pyspark.sql.types import StringType\n"
   ]
  },
  {
   "cell_type": "markdown",
   "metadata": {
    "application/vnd.databricks.v1+cell": {
     "cellMetadata": {
      "byteLimit": 2048000,
      "rowLimit": 10000
     },
     "inputWidgets": {},
     "nuid": "aeae2138-9a9e-4020-900f-9a15fd0cc900",
     "showTitle": false,
     "tableResultSettingsMap": {},
     "title": ""
    }
   },
   "source": [
    "## What does this code do?\n",
    "| Step | Code | What It Does |\n",
    "|:--|:--|:--|\n",
    "| 1 | `MODEL_NAME = \"HF_TWEET_SENTIMENT\"` | Define the name of the MLflow-registered model you want to use. |\n",
    "| 2 | `mlflow.pyfunc.spark_udf(...)` | Load the model from MLflow as a **Spark UDF**, using the **local** Python environment (`env_manager=\"local\"`). |\n",
    "| 3 | `spark.createDataFrame([...], [\"text\"])` | Create a Spark DataFrame containing example text inputs (e.g., user messages, tweets). |\n",
    "| 4 | `df.withColumn(\"model_output\", sentiment_model_udf(col(\"text\")))` | Apply the loaded model UDF to the `\"text\"` column, creating a new column `\"model_output\"` with predictions. |\n",
    "| 5 | `df_with_predictions.show(truncate=False)` | Display the Spark DataFrame showing the original texts alongside their predicted sentiments. |\n"
   ]
  },
  {
   "cell_type": "code",
   "execution_count": 0,
   "metadata": {
    "application/vnd.databricks.v1+cell": {
     "cellMetadata": {
      "byteLimit": 2048000,
      "rowLimit": 10000
     },
     "inputWidgets": {},
     "nuid": "42fece41-b20e-4d14-9b27-87296cd5e23c",
     "showTitle": true,
     "tableResultSettingsMap": {},
     "title": "Basic UDF Model Usage"
    }
   },
   "outputs": [],
   "source": [
    "MODEL_NAME = \"HF_TWEET_SENTIMENT\"\n",
    "\n",
    "# 1. Load model as a Spark UDF\n",
    "sentiment_model_udf = mlflow.pyfunc.spark_udf(\n",
    "    spark,\n",
    "    model_uri=f\"models:/{MODEL_NAME}/production\",\n",
    "    env_manager=\"local\"  # Recreate the python environment\n",
    ")\n",
    "\n",
    "# Example input DataFrame\n",
    "df = spark.createDataFrame([\n",
    "    (\"This is amazing!\",),\n",
    "    (\"I hated this movie.\",),\n",
    "    (\"Absolutely fantastic product!\",),\n",
    "    (\"Worst experience ever.\",)\n",
    "], [\"text\"])\n",
    "\n",
    "# 2. Apply the model Spark UDF directly\n",
    "df_with_predictions = df.withColumn(\n",
    "    \"model_output\",\n",
    "    sentiment_model_udf(col(\"text\"))\n",
    ")\n",
    "\n",
    "# Show result\n",
    "df_with_predictions.show(truncate=False)"
   ]
  },
  {
   "cell_type": "code",
   "execution_count": 0,
   "metadata": {
    "application/vnd.databricks.v1+cell": {
     "cellMetadata": {
      "byteLimit": 2048000,
      "rowLimit": 10000
     },
     "inputWidgets": {},
     "nuid": "4e3f087b-804d-49d1-8d38-b5f8fe8ac615",
     "showTitle": false,
     "tableResultSettingsMap": {},
     "title": ""
    }
   },
   "outputs": [],
   "source": [
    "# Save predictions partitioned by sentiment\n",
    "delta_path = \"/dbfs/mnt/tmp/delta/sentiment\"\n",
    "\n",
    "df_with_predictions = df_with_predictions.withColumn(\n",
    "    \"predicted_sentiment\",\n",
    "    col(\"model_output.label\")\n",
    ")\n",
    "\n",
    "df_with_predictions.write.format(\"delta\") \\\n",
    "    .mode(\"overwrite\") \\\n",
    "    .partitionBy(\"predicted_sentiment\") \\\n",
    "    .save(delta_path)"
   ]
  },
  {
   "cell_type": "code",
   "execution_count": 0,
   "metadata": {
    "application/vnd.databricks.v1+cell": {
     "cellMetadata": {
      "byteLimit": 2048000,
      "rowLimit": 10000
     },
     "inputWidgets": {},
     "nuid": "f65530d4-5d41-4618-86f3-7b59a709b159",
     "showTitle": false,
     "tableResultSettingsMap": {},
     "title": ""
    }
   },
   "outputs": [],
   "source": [
    "display(dbutils.fs.ls(delta_path))"
   ]
  },
  {
   "cell_type": "code",
   "execution_count": 0,
   "metadata": {
    "application/vnd.databricks.v1+cell": {
     "cellMetadata": {
      "byteLimit": 2048000,
      "rowLimit": 10000
     },
     "inputWidgets": {},
     "nuid": "87cdd088-7e24-45dd-bcd5-0cc904caf064",
     "showTitle": false,
     "tableResultSettingsMap": {},
     "title": ""
    }
   },
   "outputs": [],
   "source": [
    "# Optimize the Delta table to compact small files\n",
    "display(spark.sql(f\"\"\"OPTIMIZE delta.`{delta_path}`\"\"\"))"
   ]
  }
 ],
 "metadata": {
  "application/vnd.databricks.v1+notebook": {
   "computePreferences": null,
   "dashboards": [],
   "environmentMetadata": {
    "base_environment": "",
    "environment_version": "2"
   },
   "inputWidgetPreferences": null,
   "language": "python",
   "notebookMetadata": {
    "pythonIndentUnit": 4
   },
   "notebookName": "Spark Pandas UDF Example",
   "widgets": {}
  },
  "language_info": {
   "name": "python"
  }
 },
 "nbformat": 4,
 "nbformat_minor": 0
}
